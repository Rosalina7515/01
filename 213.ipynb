{
 "cells": [
  {
   "cell_type": "code",
   "execution_count": 1,
   "id": "initial_id",
   "metadata": {
    "ExecuteTime": {
     "end_time": "2025-03-10T16:01:34.296194Z",
     "start_time": "2025-03-10T16:01:34.292063Z"
    },
    "collapsed": true
   },
   "outputs": [],
   "source": [
    "from JtPythonBCPToHardware import *\n",
    "mySerial = SerialTool(\"com3\")"
   ]
  },
  {
   "cell_type": "code",
   "execution_count": null,
   "id": "273ae871",
   "metadata": {},
   "outputs": [
    {
     "data": {
      "text/plain": [
       "False"
      ]
     },
     "execution_count": 14,
     "metadata": {},
     "output_type": "execute_result"
    }
   ],
   "source": [
    "a = \"\"\"   __ _ \n",
    "  / _` |\n",
    " | (_| |\n",
    "  \\__,_|\"\"\"\n",
    "mySerial.hardwareSend(HardwareType.lcd, HardwareCommand.control, a)"
   ]
  }
 ],
 "metadata": {
  "kernelspec": {
   "display_name": "realplatform",
   "language": "python",
   "name": "python3"
  },
  "language_info": {
   "codemirror_mode": {
    "name": "ipython",
    "version": 3
   },
   "file_extension": ".py",
   "mimetype": "text/x-python",
   "name": "python",
   "nbconvert_exporter": "python",
   "pygments_lexer": "ipython3",
   "version": "3.11.11"
  }
 },
 "nbformat": 4,
 "nbformat_minor": 5
}
